version https://git-lfs.github.com/spec/v1
oid sha256:ec15f5c1b5217ceb047ec40144401018c2c38d233bf9ea443760c9588834bc09
size 516585
